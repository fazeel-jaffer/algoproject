{
 "cells": [
  {
   "cell_type": "code",
   "execution_count": 1,
   "id": "9a764341",
   "metadata": {},
   "outputs": [],
   "source": [
    "import numpy as np\n",
    "import pandas as pd\n",
    "import csv"
   ]
  },
  {
   "cell_type": "code",
   "execution_count": null,
   "id": "27ec8706",
   "metadata": {},
   "outputs": [],
   "source": [
    "data2 = []\n",
    "file = open('Rdata.csv')\n",
    "csvreader = csv.reader(file)\n",
    "df = pd.DataFrame(csvreader)\n",
    "print(df.head(10))\n",
    "print(df.shape)"
   ]
  },
  {
   "cell_type": "code",
   "execution_count": null,
   "id": "64a3e595",
   "metadata": {},
   "outputs": [],
   "source": [
    "\n",
    "for j in range(0, 1926):\n",
    "    a = df[2].values[j]\n",
    "    n = 5  #window size (sequence length=15)\n",
    "    data = list(str(df[1].values[j]))\n",
    "    length = len(data)\n",
    "    print(a)\n",
    "    ar=[]\n",
    "    for sym in data:\n",
    "        ar.append(sym)\n",
    "    ab=np.asarray(ar)\n",
    "    #print(ab)\n",
    "    ctr=0\n",
    "    ac = []\n",
    "    for sym in data:\n",
    "        ctr=ctr+1\n",
    "        if ctr == int(a) and length >= 2*n+1:\n",
    "            if ctr < n:\n",
    "                print(\"hello\")\n",
    "                b = n-ctr+1\n",
    "                for i in range(0,b):\n",
    "                    ac.append('X')\n",
    "                    ctr = ctr+1\n",
    "                for i in range(b,ctr+n):\n",
    "                    ac.append(ab[i-b])\n",
    "            elif length < ctr+n+1:\n",
    "                print('hiii')\n",
    "                for i in range(ctr-n-1,length):\n",
    "                    ac.append(ab[ctr-n-1])\n",
    "                    ctr = ctr+1\n",
    "                for i in range(int(length)-int(a)+n+1,2*n+1):\n",
    "                    ac.append('X')\n",
    "            else:\n",
    "                for i in range(ctr-(n+1), ctr + n):\n",
    "                    ac.append(ab[i])\n",
    "            print(ac)        \n",
    "            print(type(ac))\n",
    "            ac=np.asarray(ac)\n",
    "            print(ac)\n",
    "            print(type(ac))\n",
    "            #y=str(ac)\n",
    "            y = \"\".join(ac)\n",
    "\n",
    "            print(y)\n",
    "            print(type(y)) \n",
    "            with open('Rda2.csv', 'a', newline='\\n') as csvfile:\n",
    "                writer = csv.writer(csvfile)\n",
    "                writer.writerow(y)\n",
    "                csvfile.close()\n"
   ]
  },
  {
   "cell_type": "code",
   "execution_count": null,
   "id": "1d6b3458",
   "metadata": {},
   "outputs": [],
   "source": [
    "file = open('Rda2.csv')\n",
    "csvreader = csv.reader(file)\n",
    "\n",
    "print(csvreader)"
   ]
  },
  {
   "cell_type": "code",
   "execution_count": null,
   "id": "df6e510d",
   "metadata": {},
   "outputs": [],
   "source": []
  }
 ],
 "metadata": {
  "kernelspec": {
   "display_name": "Python 3 (ipykernel)",
   "language": "python",
   "name": "python3"
  },
  "language_info": {
   "codemirror_mode": {
    "name": "ipython",
    "version": 3
   },
   "file_extension": ".py",
   "mimetype": "text/x-python",
   "name": "python",
   "nbconvert_exporter": "python",
   "pygments_lexer": "ipython3",
   "version": "3.11.1"
  }
 },
 "nbformat": 4,
 "nbformat_minor": 5
}
